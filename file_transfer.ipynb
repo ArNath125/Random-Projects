{
 "cells": [
  {
   "cell_type": "markdown",
   "id": "3b922bd7",
   "metadata": {},
   "source": [
    "# Secure File Transfer with Authentication and Hybrid Encryption\n",
    "-- RSA for Key exchange\n",
    "-- AES for file encryption\n",
    "-- Hashed password authentication using bcrypt"
   ]
  },
  {
   "cell_type": "code",
   "execution_count": null,
   "id": "092a2298",
   "metadata": {},
   "outputs": [],
   "source": [
    "#install required libraries\n",
    "%pip install cryptography bcrypt"
   ]
  },
  {
   "cell_type": "code",
   "execution_count": 1,
   "id": "f55fa4e2",
   "metadata": {},
   "outputs": [],
   "source": [
    "#Step1: Import Libraries and Utility Functions\n",
    "\n",
    "import bcrypt\n",
    "from cryptography.fernet import Fernet\n",
    "from cryptography.hazmat.primitives import serialization, hashes\n",
    "from cryptography.hazmat.primitives.asymmetric import rsa, padding\n",
    "\n",
    "#RSA Key Generation\n",
    "def generate_rsa_key():\n",
    "    private_key = rsa.generate_private_key(public_exponent=65537, key_size=2048)\n",
    "    public_key = private_key.public_key()\n",
    "    return private_key, public_key\n",
    "\n",
    "#RSA encryption/decryption\n",
    "def rsa_encrypt(data, public_key):\n",
    "    return public_key.encrypt(\n",
    "        data,\n",
    "        padding.OAEP(\n",
    "            mgf=padding.MGF1(algorithm=hashes.SHA256()),\n",
    "            algorithm=hashes.SHA256(),\n",
    "            label=None\n",
    "        )\n",
    "    )\n",
    "def rsa_decrypt(data, private_key):\n",
    "    return private_key.decrypt(\n",
    "        data,\n",
    "        padding.OAEP(\n",
    "            mgf=padding.MGF1(algorithm=hashes.SHA256()),\n",
    "            algorithm=hashes.SHA256(),\n",
    "            label=None\n",
    "        )\n",
    "    )\n",
    "\n",
    "#AES key and encryption/decryption\n",
    "def generate_aes_key():\n",
    "    return Fernet.generate_key()\n",
    "\n",
    "def aes_encrypt(data, key):\n",
    "    return Fernet(key).encrypt(data)\n",
    "\n",
    "def aes_decrypt(data, key):\n",
    "    return Fernet(key).decrypt(data)\n",
    "\n",
    "#Password hashing and verification\n",
    "def hash_password(password):\n",
    "    return bcrypt.hashpw(password.encode(), bcrypt.gensalt())\n",
    "\n",
    "def verify_password(password, hashed):\n",
    "    return bcrypt.checkpw(password.encode(), hashed)"
   ]
  },
  {
   "cell_type": "code",
   "execution_count": 2,
   "id": "dd51ed8c",
   "metadata": {},
   "outputs": [],
   "source": [
    "#Step2: Generate Keys and Credentials\n",
    "private_key, public_key = generate_rsa_key()\n",
    "\n",
    "#Generate AES key\n",
    "aes_key = generate_aes_key()\n",
    "\n",
    "#User credentials\n",
    "username = \"ADMIN\"\n",
    "password = \"SecurePassword123\"\n",
    "hashed_password = hash_password(password)\n",
    "\n",
    "#Simulate user database (in memory)\n",
    "user_db = {username: hashed_password}"
   ]
  },
  {
   "cell_type": "code",
   "execution_count": 3,
   "id": "57a09bb5",
   "metadata": {},
   "outputs": [],
   "source": [
    "#Step3: Simulate Client Side\n",
    "#Encrypt AES key with RSA public key\n",
    "#Encrypt file with AES key\n",
    "\n",
    "file_content = b'This is TOP-SECRET'\n",
    "\n",
    "encrypted_aes_key = rsa_encrypt(aes_key, public_key)\n",
    "\n",
    "encrypted_file = aes_encrypt(file_content, aes_key)"
   ]
  },
  {
   "cell_type": "code",
   "execution_count": 4,
   "id": "32bfc5a9",
   "metadata": {},
   "outputs": [
    {
     "name": "stdout",
     "output_type": "stream",
     "text": [
      "User authenticated.\n",
      "Decrypted file content: This is TOP-SECRET\n"
     ]
    }
   ],
   "source": [
    "#Simulate Server Side\n",
    "#Authenticate user\n",
    "#Decrypt AES key with RSA private key\n",
    "#Decrypt file content\n",
    "\n",
    "received_username = \"ADMIN\"\n",
    "received_password = \"SecurePassword123\"\n",
    "\n",
    "#authenticate \n",
    "if received_username in user_db and verify_password(received_password, user_db[received_username]):\n",
    "    print(\"User authenticated.\")\n",
    "\n",
    "    #decrypt AES key\n",
    "    decrypted_aes_key = rsa_decrypt(encrypted_aes_key, private_key)\n",
    "\n",
    "    #decrypt file content\n",
    "    decrypted_file = aes_decrypt(encrypted_file, decrypted_aes_key)\n",
    "    print(\"Decrypted file content:\", decrypted_file.decode())\n",
    "else:\n",
    "    print(\"Authentication failed.\")"
   ]
  }
 ],
 "metadata": {
  "kernelspec": {
   "display_name": "Python(Kali Env)",
   "language": "python",
   "name": "kali-python-env"
  },
  "language_info": {
   "codemirror_mode": {
    "name": "ipython",
    "version": 3
   },
   "file_extension": ".py",
   "mimetype": "text/x-python",
   "name": "python",
   "nbconvert_exporter": "python",
   "pygments_lexer": "ipython3",
   "version": "3.13.3"
  }
 },
 "nbformat": 4,
 "nbformat_minor": 5
}
